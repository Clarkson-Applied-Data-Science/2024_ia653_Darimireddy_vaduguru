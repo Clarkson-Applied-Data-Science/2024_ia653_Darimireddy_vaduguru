{
  "cells": [
    {
      "cell_type": "code",
      "execution_count": 5,
      "metadata": {
        "id": "3eOXcoVPu3Oy"
      },
      "outputs": [],
      "source": [
        "import numpy as np\n",
        "import pandas as pd\n",
        "import matplotlib.pyplot as plt\n",
        "import seaborn as sns\n",
        "\n",
        "import string\n",
        "import re\n",
        "import nltk\n",
        "from nltk import tokenize\n",
        "from nltk.corpus import stopwords\n",
        "from nltk.stem import WordNetLemmatizer\n",
        "\n",
        "import random\n",
        "\n",
        "from sklearn.feature_extraction.text import CountVectorizer, TfidfVectorizer\n",
        "from sklearn.model_selection import train_test_split, cross_validate\n",
        "from sklearn.preprocessing import LabelEncoder\n",
        "from sklearn.ensemble import RandomForestClassifier\n",
        "from sklearn.naive_bayes import MultinomialNB\n",
        "from sklearn.linear_model import LogisticRegression\n",
        "from sklearn.pipeline import Pipeline\n",
        "from sklearn.metrics import (\n",
        "    accuracy_score,\n",
        "    precision_score,\n",
        "    recall_score,\n",
        "    f1_score,\n",
        "    confusion_matrix,\n",
        "    roc_curve,\n",
        "    classification_report\n",
        ")\n",
        "from sklearn import metrics\n",
        "\n",
        "import tensorflow as tf\n",
        "from tensorflow.keras.models import Sequential\n",
        "from tensorflow.keras.layers import Embedding, GlobalAveragePooling1D, Dense, GRU, Dropout\n",
        "\n",
        "import warnings"
      ]
    },
    {
      "cell_type": "code",
      "execution_count": 6,
      "metadata": {
        "id": "hvcv2zr5u3Oz"
      },
      "outputs": [],
      "source": [
        "import warnings\n",
        "warnings.filterwarnings('ignore')"
      ]
    },
    {
      "cell_type": "code",
      "execution_count": 7,
      "metadata": {
        "colab": {
          "base_uri": "https://localhost:8080/",
          "height": 363
        },
        "id": "cVzOfyiXu3O0",
        "outputId": "4d48d3f3-2770-4726-856d-460358c24a3e"
      },
      "outputs": [
        {
          "data": {
            "application/vnd.google.colaboratory.intrinsic+json": {
              "summary": "{\n  \"name\": \"df\",\n  \"rows\": 52702,\n  \"fields\": [\n    {\n      \"column\": \"Review\",\n      \"properties\": {\n        \"dtype\": \"string\",\n        \"num_unique_values\": 51472,\n        \"samples\": [\n          \"What's the point of being able to download music if it's just going to delete my downloaded music the day after and force me to go back online after if I want to listen to my downloaded music? Stick to Apple Music or Tidal. Spotify doesn't care for it's users.\",\n          \"Media buttons disappear after a while, so you lose control of the app. Please fix this bug as soon as possible, as it leaves the app unusable.\",\n          \"The app loses a part of its interface, in which the app needs to be force closed for it to return. Frustrating to do that a dozen times every day.\"\n        ],\n        \"semantic_type\": \"\",\n        \"description\": \"\"\n      }\n    },\n    {\n      \"column\": \"label\",\n      \"properties\": {\n        \"dtype\": \"category\",\n        \"num_unique_values\": 2,\n        \"samples\": [\n          \"NEGATIVE\",\n          \"POSITIVE\"\n        ],\n        \"semantic_type\": \"\",\n        \"description\": \"\"\n      }\n    }\n  ]\n}",
              "type": "dataframe",
              "variable_name": "df"
            },
            "text/html": [
              "\n",
              "  <div id=\"df-6f48aa46-14ca-4e7f-85dc-508f75ddc42d\" class=\"colab-df-container\">\n",
              "    <div>\n",
              "<style scoped>\n",
              "    .dataframe tbody tr th:only-of-type {\n",
              "        vertical-align: middle;\n",
              "    }\n",
              "\n",
              "    .dataframe tbody tr th {\n",
              "        vertical-align: top;\n",
              "    }\n",
              "\n",
              "    .dataframe thead th {\n",
              "        text-align: right;\n",
              "    }\n",
              "</style>\n",
              "<table border=\"1\" class=\"dataframe\">\n",
              "  <thead>\n",
              "    <tr style=\"text-align: right;\">\n",
              "      <th></th>\n",
              "      <th>Review</th>\n",
              "      <th>label</th>\n",
              "    </tr>\n",
              "  </thead>\n",
              "  <tbody>\n",
              "    <tr>\n",
              "      <th>0</th>\n",
              "      <td>Great music service, the audio is high quality...</td>\n",
              "      <td>POSITIVE</td>\n",
              "    </tr>\n",
              "    <tr>\n",
              "      <th>1</th>\n",
              "      <td>Please ignore previous negative rating. This a...</td>\n",
              "      <td>POSITIVE</td>\n",
              "    </tr>\n",
              "    <tr>\n",
              "      <th>2</th>\n",
              "      <td>This pop-up \"Get the best Spotify experience o...</td>\n",
              "      <td>NEGATIVE</td>\n",
              "    </tr>\n",
              "    <tr>\n",
              "      <th>3</th>\n",
              "      <td>Really buggy and terrible to use as of recently</td>\n",
              "      <td>NEGATIVE</td>\n",
              "    </tr>\n",
              "    <tr>\n",
              "      <th>4</th>\n",
              "      <td>Dear Spotify why do I get songs that I didn't ...</td>\n",
              "      <td>NEGATIVE</td>\n",
              "    </tr>\n",
              "    <tr>\n",
              "      <th>5</th>\n",
              "      <td>The player controls sometimes disappear for no...</td>\n",
              "      <td>NEGATIVE</td>\n",
              "    </tr>\n",
              "    <tr>\n",
              "      <th>6</th>\n",
              "      <td>I love the selection and the lyrics are provid...</td>\n",
              "      <td>POSITIVE</td>\n",
              "    </tr>\n",
              "    <tr>\n",
              "      <th>7</th>\n",
              "      <td>Still extremely slow when changing storage to ...</td>\n",
              "      <td>NEGATIVE</td>\n",
              "    </tr>\n",
              "    <tr>\n",
              "      <th>8</th>\n",
              "      <td>It's a great app and the best mp3 music app I ...</td>\n",
              "      <td>POSITIVE</td>\n",
              "    </tr>\n",
              "    <tr>\n",
              "      <th>9</th>\n",
              "      <td>I'm deleting this app, for the following reaso...</td>\n",
              "      <td>NEGATIVE</td>\n",
              "    </tr>\n",
              "  </tbody>\n",
              "</table>\n",
              "</div>\n",
              "    <div class=\"colab-df-buttons\">\n",
              "\n",
              "  <div class=\"colab-df-container\">\n",
              "    <button class=\"colab-df-convert\" onclick=\"convertToInteractive('df-6f48aa46-14ca-4e7f-85dc-508f75ddc42d')\"\n",
              "            title=\"Convert this dataframe to an interactive table.\"\n",
              "            style=\"display:none;\">\n",
              "\n",
              "  <svg xmlns=\"http://www.w3.org/2000/svg\" height=\"24px\" viewBox=\"0 -960 960 960\">\n",
              "    <path d=\"M120-120v-720h720v720H120Zm60-500h600v-160H180v160Zm220 220h160v-160H400v160Zm0 220h160v-160H400v160ZM180-400h160v-160H180v160Zm440 0h160v-160H620v160ZM180-180h160v-160H180v160Zm440 0h160v-160H620v160Z\"/>\n",
              "  </svg>\n",
              "    </button>\n",
              "\n",
              "  <style>\n",
              "    .colab-df-container {\n",
              "      display:flex;\n",
              "      gap: 12px;\n",
              "    }\n",
              "\n",
              "    .colab-df-convert {\n",
              "      background-color: #E8F0FE;\n",
              "      border: none;\n",
              "      border-radius: 50%;\n",
              "      cursor: pointer;\n",
              "      display: none;\n",
              "      fill: #1967D2;\n",
              "      height: 32px;\n",
              "      padding: 0 0 0 0;\n",
              "      width: 32px;\n",
              "    }\n",
              "\n",
              "    .colab-df-convert:hover {\n",
              "      background-color: #E2EBFA;\n",
              "      box-shadow: 0px 1px 2px rgba(60, 64, 67, 0.3), 0px 1px 3px 1px rgba(60, 64, 67, 0.15);\n",
              "      fill: #174EA6;\n",
              "    }\n",
              "\n",
              "    .colab-df-buttons div {\n",
              "      margin-bottom: 4px;\n",
              "    }\n",
              "\n",
              "    [theme=dark] .colab-df-convert {\n",
              "      background-color: #3B4455;\n",
              "      fill: #D2E3FC;\n",
              "    }\n",
              "\n",
              "    [theme=dark] .colab-df-convert:hover {\n",
              "      background-color: #434B5C;\n",
              "      box-shadow: 0px 1px 3px 1px rgba(0, 0, 0, 0.15);\n",
              "      filter: drop-shadow(0px 1px 2px rgba(0, 0, 0, 0.3));\n",
              "      fill: #FFFFFF;\n",
              "    }\n",
              "  </style>\n",
              "\n",
              "    <script>\n",
              "      const buttonEl =\n",
              "        document.querySelector('#df-6f48aa46-14ca-4e7f-85dc-508f75ddc42d button.colab-df-convert');\n",
              "      buttonEl.style.display =\n",
              "        google.colab.kernel.accessAllowed ? 'block' : 'none';\n",
              "\n",
              "      async function convertToInteractive(key) {\n",
              "        const element = document.querySelector('#df-6f48aa46-14ca-4e7f-85dc-508f75ddc42d');\n",
              "        const dataTable =\n",
              "          await google.colab.kernel.invokeFunction('convertToInteractive',\n",
              "                                                    [key], {});\n",
              "        if (!dataTable) return;\n",
              "\n",
              "        const docLinkHtml = 'Like what you see? Visit the ' +\n",
              "          '<a target=\"_blank\" href=https://colab.research.google.com/notebooks/data_table.ipynb>data table notebook</a>'\n",
              "          + ' to learn more about interactive tables.';\n",
              "        element.innerHTML = '';\n",
              "        dataTable['output_type'] = 'display_data';\n",
              "        await google.colab.output.renderOutput(dataTable, element);\n",
              "        const docLink = document.createElement('div');\n",
              "        docLink.innerHTML = docLinkHtml;\n",
              "        element.appendChild(docLink);\n",
              "      }\n",
              "    </script>\n",
              "  </div>\n",
              "\n",
              "\n",
              "<div id=\"df-298fb9fe-6fbc-478c-9525-a012e3bc9c51\">\n",
              "  <button class=\"colab-df-quickchart\" onclick=\"quickchart('df-298fb9fe-6fbc-478c-9525-a012e3bc9c51')\"\n",
              "            title=\"Suggest charts\"\n",
              "            style=\"display:none;\">\n",
              "\n",
              "<svg xmlns=\"http://www.w3.org/2000/svg\" height=\"24px\"viewBox=\"0 0 24 24\"\n",
              "     width=\"24px\">\n",
              "    <g>\n",
              "        <path d=\"M19 3H5c-1.1 0-2 .9-2 2v14c0 1.1.9 2 2 2h14c1.1 0 2-.9 2-2V5c0-1.1-.9-2-2-2zM9 17H7v-7h2v7zm4 0h-2V7h2v10zm4 0h-2v-4h2v4z\"/>\n",
              "    </g>\n",
              "</svg>\n",
              "  </button>\n",
              "\n",
              "<style>\n",
              "  .colab-df-quickchart {\n",
              "      --bg-color: #E8F0FE;\n",
              "      --fill-color: #1967D2;\n",
              "      --hover-bg-color: #E2EBFA;\n",
              "      --hover-fill-color: #174EA6;\n",
              "      --disabled-fill-color: #AAA;\n",
              "      --disabled-bg-color: #DDD;\n",
              "  }\n",
              "\n",
              "  [theme=dark] .colab-df-quickchart {\n",
              "      --bg-color: #3B4455;\n",
              "      --fill-color: #D2E3FC;\n",
              "      --hover-bg-color: #434B5C;\n",
              "      --hover-fill-color: #FFFFFF;\n",
              "      --disabled-bg-color: #3B4455;\n",
              "      --disabled-fill-color: #666;\n",
              "  }\n",
              "\n",
              "  .colab-df-quickchart {\n",
              "    background-color: var(--bg-color);\n",
              "    border: none;\n",
              "    border-radius: 50%;\n",
              "    cursor: pointer;\n",
              "    display: none;\n",
              "    fill: var(--fill-color);\n",
              "    height: 32px;\n",
              "    padding: 0;\n",
              "    width: 32px;\n",
              "  }\n",
              "\n",
              "  .colab-df-quickchart:hover {\n",
              "    background-color: var(--hover-bg-color);\n",
              "    box-shadow: 0 1px 2px rgba(60, 64, 67, 0.3), 0 1px 3px 1px rgba(60, 64, 67, 0.15);\n",
              "    fill: var(--button-hover-fill-color);\n",
              "  }\n",
              "\n",
              "  .colab-df-quickchart-complete:disabled,\n",
              "  .colab-df-quickchart-complete:disabled:hover {\n",
              "    background-color: var(--disabled-bg-color);\n",
              "    fill: var(--disabled-fill-color);\n",
              "    box-shadow: none;\n",
              "  }\n",
              "\n",
              "  .colab-df-spinner {\n",
              "    border: 2px solid var(--fill-color);\n",
              "    border-color: transparent;\n",
              "    border-bottom-color: var(--fill-color);\n",
              "    animation:\n",
              "      spin 1s steps(1) infinite;\n",
              "  }\n",
              "\n",
              "  @keyframes spin {\n",
              "    0% {\n",
              "      border-color: transparent;\n",
              "      border-bottom-color: var(--fill-color);\n",
              "      border-left-color: var(--fill-color);\n",
              "    }\n",
              "    20% {\n",
              "      border-color: transparent;\n",
              "      border-left-color: var(--fill-color);\n",
              "      border-top-color: var(--fill-color);\n",
              "    }\n",
              "    30% {\n",
              "      border-color: transparent;\n",
              "      border-left-color: var(--fill-color);\n",
              "      border-top-color: var(--fill-color);\n",
              "      border-right-color: var(--fill-color);\n",
              "    }\n",
              "    40% {\n",
              "      border-color: transparent;\n",
              "      border-right-color: var(--fill-color);\n",
              "      border-top-color: var(--fill-color);\n",
              "    }\n",
              "    60% {\n",
              "      border-color: transparent;\n",
              "      border-right-color: var(--fill-color);\n",
              "    }\n",
              "    80% {\n",
              "      border-color: transparent;\n",
              "      border-right-color: var(--fill-color);\n",
              "      border-bottom-color: var(--fill-color);\n",
              "    }\n",
              "    90% {\n",
              "      border-color: transparent;\n",
              "      border-bottom-color: var(--fill-color);\n",
              "    }\n",
              "  }\n",
              "</style>\n",
              "\n",
              "  <script>\n",
              "    async function quickchart(key) {\n",
              "      const quickchartButtonEl =\n",
              "        document.querySelector('#' + key + ' button');\n",
              "      quickchartButtonEl.disabled = true;  // To prevent multiple clicks.\n",
              "      quickchartButtonEl.classList.add('colab-df-spinner');\n",
              "      try {\n",
              "        const charts = await google.colab.kernel.invokeFunction(\n",
              "            'suggestCharts', [key], {});\n",
              "      } catch (error) {\n",
              "        console.error('Error during call to suggestCharts:', error);\n",
              "      }\n",
              "      quickchartButtonEl.classList.remove('colab-df-spinner');\n",
              "      quickchartButtonEl.classList.add('colab-df-quickchart-complete');\n",
              "    }\n",
              "    (() => {\n",
              "      let quickchartButtonEl =\n",
              "        document.querySelector('#df-298fb9fe-6fbc-478c-9525-a012e3bc9c51 button');\n",
              "      quickchartButtonEl.style.display =\n",
              "        google.colab.kernel.accessAllowed ? 'block' : 'none';\n",
              "    })();\n",
              "  </script>\n",
              "</div>\n",
              "\n",
              "    </div>\n",
              "  </div>\n"
            ],
            "text/plain": [
              "                                              Review     label\n",
              "0  Great music service, the audio is high quality...  POSITIVE\n",
              "1  Please ignore previous negative rating. This a...  POSITIVE\n",
              "2  This pop-up \"Get the best Spotify experience o...  NEGATIVE\n",
              "3    Really buggy and terrible to use as of recently  NEGATIVE\n",
              "4  Dear Spotify why do I get songs that I didn't ...  NEGATIVE\n",
              "5  The player controls sometimes disappear for no...  NEGATIVE\n",
              "6  I love the selection and the lyrics are provid...  POSITIVE\n",
              "7  Still extremely slow when changing storage to ...  NEGATIVE\n",
              "8  It's a great app and the best mp3 music app I ...  POSITIVE\n",
              "9  I'm deleting this app, for the following reaso...  NEGATIVE"
            ]
          },
          "execution_count": 7,
          "metadata": {},
          "output_type": "execute_result"
        }
      ],
      "source": [
        "file_path = r\"/content/Spotify_dataset.csv\"\n",
        "df = pd.read_csv(file_path)\n",
        "df.head(10)"
      ]
    },
    {
      "cell_type": "code",
      "execution_count": 8,
      "metadata": {
        "colab": {
          "base_uri": "https://localhost:8080/",
          "height": 35
        },
        "id": "CaAnzf6Ju3O0",
        "outputId": "ebf8629a-5a13-44be-c7f2-6a6a968f8bd2"
      },
      "outputs": [
        {
          "data": {
            "application/vnd.google.colaboratory.intrinsic+json": {
              "type": "string"
            },
            "text/plain": [
              "'NEGATIVE'"
            ]
          },
          "execution_count": 8,
          "metadata": {},
          "output_type": "execute_result"
        }
      ],
      "source": [
        "df.iloc[4,1]"
      ]
    },
    {
      "cell_type": "code",
      "execution_count": 9,
      "metadata": {
        "colab": {
          "base_uri": "https://localhost:8080/"
        },
        "id": "68mPP96Yu3O0",
        "outputId": "b315d310-a9b9-49a9-f502-73d4bdf1be0f"
      },
      "outputs": [
        {
          "name": "stdout",
          "output_type": "stream",
          "text": [
            "Number of samples: 52702\n",
            "Number of features: 2\n"
          ]
        }
      ],
      "source": [
        "print(f'Number of samples: {df.shape[0]}\\nNumber of features: {df.shape[1]}')"
      ]
    },
    {
      "cell_type": "code",
      "execution_count": 10,
      "metadata": {
        "colab": {
          "base_uri": "https://localhost:8080/"
        },
        "id": "Ex4XvCDPu3O0",
        "outputId": "fa6f1ec0-35b1-4140-8214-5f24aeb1af27"
      },
      "outputs": [
        {
          "name": "stdout",
          "output_type": "stream",
          "text": [
            "<class 'pandas.core.frame.DataFrame'>\n",
            "RangeIndex: 52702 entries, 0 to 52701\n",
            "Data columns (total 2 columns):\n",
            " #   Column  Non-Null Count  Dtype \n",
            "---  ------  --------------  ----- \n",
            " 0   Review  52686 non-null  object\n",
            " 1   label   52702 non-null  object\n",
            "dtypes: object(2)\n",
            "memory usage: 823.6+ KB\n"
          ]
        }
      ],
      "source": [
        "df.info()"
      ]
    },
    {
      "cell_type": "code",
      "execution_count": 11,
      "metadata": {
        "colab": {
          "base_uri": "https://localhost:8080/"
        },
        "id": "D0QZXeCIu3O0",
        "outputId": "4120f4ce-e67a-4144-8fb7-2b371451b5c4"
      },
      "outputs": [
        {
          "data": {
            "text/plain": [
              "[{'Review': 'Sound quality is acceptable; it works for me.',\n",
              "  'label': 'NEUTRAL'},\n",
              " {'Review': 'I use Spotify for basic streaming; it’s fine.',\n",
              "  'label': 'NEUTRAL'},\n",
              " {'Review': 'The overall experience is acceptable but not exceptional.',\n",
              "  'label': 'NEUTRAL'},\n",
              " {'Review': 'Spotify is acceptable; it meets expectations.',\n",
              "  'label': 'NEUTRAL'},\n",
              " {'Review': 'The app is okay but nothing special.', 'label': 'NEUTRAL'}]"
            ]
          },
          "execution_count": 11,
          "metadata": {},
          "output_type": "execute_result"
        }
      ],
      "source": [
        "patterns = [\n",
        "    \"I use Spotify {frequency}; it’s {adjective}.\",\n",
        "    \"The app {performance} for {purpose}.\",\n",
        "    \"Spotify is {adjective} for {audience}.\",\n",
        "    \"It’s {adjective}; the app {fulfillment}.\",\n",
        "    \"The {feature} is {adjective}; it {fulfillment}.\",\n",
        "    \"I use Spotify for {activity}; it’s {adjective}.\",\n",
        "    \"The app is {adjective} but {improvement}.\",\n",
        "    \"Sound quality is {adjective}; it works for me.\",\n",
        "    \"Spotify is {adjective}; it {fulfillment}.\",\n",
        "    \"The {aspect} is {adjective} but not {expectation}.\"\n",
        "]\n",
        "\n",
        "word_pools = {\n",
        "    \"frequency\": [\"occasionally\", \"sometimes\", \"rarely\", \"often\", \"frequently\"],\n",
        "    \"adjective\": [\"decent\", \"fine\", \"acceptable\", \"okay\", \"average\"],\n",
        "    \"performance\": [\"works fine\", \"functions well\", \"runs smoothly\", \"is okay\"],\n",
        "    \"purpose\": [\"streaming music\", \"general use\", \"music discovery\"],\n",
        "    \"audience\": [\"casual listeners\", \"basic needs\", \"everyday users\"],\n",
        "    \"fulfillment\": [\"does its job\", \"meets expectations\", \"serves its purpose\"],\n",
        "    \"feature\": [\"playlist variety\", \"music library\", \"interface\"],\n",
        "    \"activity\": [\"basic streaming\", \"casual listening\", \"background music\"],\n",
        "    \"aspect\": [\"overall experience\", \"app design\", \"service\"],\n",
        "    \"improvement\": [\"nothing special\", \"could improve\", \"lacks uniqueness\"],\n",
        "    \"expectation\": [\"exceptional\", \"remarkable\", \"outstanding\"]\n",
        "}\n",
        "\n",
        "def generate_reviews(n=15000):\n",
        "    reviews = []\n",
        "    for _ in range(n):\n",
        "        pattern = random.choice(patterns)\n",
        "        review = pattern.format(\n",
        "            frequency=random.choice(word_pools[\"frequency\"]),\n",
        "            adjective=random.choice(word_pools[\"adjective\"]),\n",
        "            performance=random.choice(word_pools[\"performance\"]),\n",
        "            purpose=random.choice(word_pools[\"purpose\"]),\n",
        "            audience=random.choice(word_pools[\"audience\"]),\n",
        "            fulfillment=random.choice(word_pools[\"fulfillment\"]),\n",
        "            feature=random.choice(word_pools[\"feature\"]),\n",
        "            activity=random.choice(word_pools[\"activity\"]),\n",
        "            aspect=random.choice(word_pools[\"aspect\"]),\n",
        "            improvement=random.choice(word_pools[\"improvement\"]),\n",
        "            expectation=random.choice(word_pools[\"expectation\"])\n",
        "        )\n",
        "        reviews.append({\"Review\": review, \"label\": \"NEUTRAL\"})\n",
        "    return reviews\n",
        "\n",
        "# Generate 1000 reviews\n",
        "neutral_reviews = generate_reviews(15000)\n",
        "\n",
        "neutral_reviews[:5]"
      ]
    },
    {
      "cell_type": "code",
      "execution_count": 12,
      "metadata": {
        "colab": {
          "base_uri": "https://localhost:8080/",
          "height": 363
        },
        "id": "qOlScXi9u3O1",
        "outputId": "69b5e53b-39ae-490c-dc0a-3c897747fc4b"
      },
      "outputs": [
        {
          "data": {
            "application/vnd.google.colaboratory.intrinsic+json": {
              "summary": "{\n  \"name\": \"updated_dataset\",\n  \"rows\": 10,\n  \"fields\": [\n    {\n      \"column\": \"Review\",\n      \"properties\": {\n        \"dtype\": \"string\",\n        \"num_unique_values\": 10,\n        \"samples\": [\n          \"The app is okay but nothing special.\",\n          \"Please ignore previous negative rating. This app is super great. I give it five stars+\",\n          \"I use Spotify for basic streaming; it\\u2019s fine.\"\n        ],\n        \"semantic_type\": \"\",\n        \"description\": \"\"\n      }\n    },\n    {\n      \"column\": \"label\",\n      \"properties\": {\n        \"dtype\": \"category\",\n        \"num_unique_values\": 3,\n        \"samples\": [\n          \"POSITIVE\",\n          \"NEGATIVE\",\n          \"NEUTRAL\"\n        ],\n        \"semantic_type\": \"\",\n        \"description\": \"\"\n      }\n    }\n  ]\n}",
              "type": "dataframe"
            },
            "text/html": [
              "\n",
              "  <div id=\"df-87b201f0-b1ac-45cb-87d4-dfc5915e89ea\" class=\"colab-df-container\">\n",
              "    <div>\n",
              "<style scoped>\n",
              "    .dataframe tbody tr th:only-of-type {\n",
              "        vertical-align: middle;\n",
              "    }\n",
              "\n",
              "    .dataframe tbody tr th {\n",
              "        vertical-align: top;\n",
              "    }\n",
              "\n",
              "    .dataframe thead th {\n",
              "        text-align: right;\n",
              "    }\n",
              "</style>\n",
              "<table border=\"1\" class=\"dataframe\">\n",
              "  <thead>\n",
              "    <tr style=\"text-align: right;\">\n",
              "      <th></th>\n",
              "      <th>Review</th>\n",
              "      <th>label</th>\n",
              "    </tr>\n",
              "  </thead>\n",
              "  <tbody>\n",
              "    <tr>\n",
              "      <th>0</th>\n",
              "      <td>Great music service, the audio is high quality...</td>\n",
              "      <td>POSITIVE</td>\n",
              "    </tr>\n",
              "    <tr>\n",
              "      <th>1</th>\n",
              "      <td>Please ignore previous negative rating. This a...</td>\n",
              "      <td>POSITIVE</td>\n",
              "    </tr>\n",
              "    <tr>\n",
              "      <th>2</th>\n",
              "      <td>This pop-up \"Get the best Spotify experience o...</td>\n",
              "      <td>NEGATIVE</td>\n",
              "    </tr>\n",
              "    <tr>\n",
              "      <th>3</th>\n",
              "      <td>Really buggy and terrible to use as of recently</td>\n",
              "      <td>NEGATIVE</td>\n",
              "    </tr>\n",
              "    <tr>\n",
              "      <th>4</th>\n",
              "      <td>Sound quality is acceptable; it works for me.</td>\n",
              "      <td>NEUTRAL</td>\n",
              "    </tr>\n",
              "    <tr>\n",
              "      <th>5</th>\n",
              "      <td>I use Spotify for basic streaming; it’s fine.</td>\n",
              "      <td>NEUTRAL</td>\n",
              "    </tr>\n",
              "    <tr>\n",
              "      <th>6</th>\n",
              "      <td>The overall experience is acceptable but not e...</td>\n",
              "      <td>NEUTRAL</td>\n",
              "    </tr>\n",
              "    <tr>\n",
              "      <th>7</th>\n",
              "      <td>Spotify is acceptable; it meets expectations.</td>\n",
              "      <td>NEUTRAL</td>\n",
              "    </tr>\n",
              "    <tr>\n",
              "      <th>8</th>\n",
              "      <td>The app is okay but nothing special.</td>\n",
              "      <td>NEUTRAL</td>\n",
              "    </tr>\n",
              "    <tr>\n",
              "      <th>9</th>\n",
              "      <td>I use Spotify for casual listening; it’s fine.</td>\n",
              "      <td>NEUTRAL</td>\n",
              "    </tr>\n",
              "  </tbody>\n",
              "</table>\n",
              "</div>\n",
              "    <div class=\"colab-df-buttons\">\n",
              "\n",
              "  <div class=\"colab-df-container\">\n",
              "    <button class=\"colab-df-convert\" onclick=\"convertToInteractive('df-87b201f0-b1ac-45cb-87d4-dfc5915e89ea')\"\n",
              "            title=\"Convert this dataframe to an interactive table.\"\n",
              "            style=\"display:none;\">\n",
              "\n",
              "  <svg xmlns=\"http://www.w3.org/2000/svg\" height=\"24px\" viewBox=\"0 -960 960 960\">\n",
              "    <path d=\"M120-120v-720h720v720H120Zm60-500h600v-160H180v160Zm220 220h160v-160H400v160Zm0 220h160v-160H400v160ZM180-400h160v-160H180v160Zm440 0h160v-160H620v160ZM180-180h160v-160H180v160Zm440 0h160v-160H620v160Z\"/>\n",
              "  </svg>\n",
              "    </button>\n",
              "\n",
              "  <style>\n",
              "    .colab-df-container {\n",
              "      display:flex;\n",
              "      gap: 12px;\n",
              "    }\n",
              "\n",
              "    .colab-df-convert {\n",
              "      background-color: #E8F0FE;\n",
              "      border: none;\n",
              "      border-radius: 50%;\n",
              "      cursor: pointer;\n",
              "      display: none;\n",
              "      fill: #1967D2;\n",
              "      height: 32px;\n",
              "      padding: 0 0 0 0;\n",
              "      width: 32px;\n",
              "    }\n",
              "\n",
              "    .colab-df-convert:hover {\n",
              "      background-color: #E2EBFA;\n",
              "      box-shadow: 0px 1px 2px rgba(60, 64, 67, 0.3), 0px 1px 3px 1px rgba(60, 64, 67, 0.15);\n",
              "      fill: #174EA6;\n",
              "    }\n",
              "\n",
              "    .colab-df-buttons div {\n",
              "      margin-bottom: 4px;\n",
              "    }\n",
              "\n",
              "    [theme=dark] .colab-df-convert {\n",
              "      background-color: #3B4455;\n",
              "      fill: #D2E3FC;\n",
              "    }\n",
              "\n",
              "    [theme=dark] .colab-df-convert:hover {\n",
              "      background-color: #434B5C;\n",
              "      box-shadow: 0px 1px 3px 1px rgba(0, 0, 0, 0.15);\n",
              "      filter: drop-shadow(0px 1px 2px rgba(0, 0, 0, 0.3));\n",
              "      fill: #FFFFFF;\n",
              "    }\n",
              "  </style>\n",
              "\n",
              "    <script>\n",
              "      const buttonEl =\n",
              "        document.querySelector('#df-87b201f0-b1ac-45cb-87d4-dfc5915e89ea button.colab-df-convert');\n",
              "      buttonEl.style.display =\n",
              "        google.colab.kernel.accessAllowed ? 'block' : 'none';\n",
              "\n",
              "      async function convertToInteractive(key) {\n",
              "        const element = document.querySelector('#df-87b201f0-b1ac-45cb-87d4-dfc5915e89ea');\n",
              "        const dataTable =\n",
              "          await google.colab.kernel.invokeFunction('convertToInteractive',\n",
              "                                                    [key], {});\n",
              "        if (!dataTable) return;\n",
              "\n",
              "        const docLinkHtml = 'Like what you see? Visit the ' +\n",
              "          '<a target=\"_blank\" href=https://colab.research.google.com/notebooks/data_table.ipynb>data table notebook</a>'\n",
              "          + ' to learn more about interactive tables.';\n",
              "        element.innerHTML = '';\n",
              "        dataTable['output_type'] = 'display_data';\n",
              "        await google.colab.output.renderOutput(dataTable, element);\n",
              "        const docLink = document.createElement('div');\n",
              "        docLink.innerHTML = docLinkHtml;\n",
              "        element.appendChild(docLink);\n",
              "      }\n",
              "    </script>\n",
              "  </div>\n",
              "\n",
              "\n",
              "<div id=\"df-366c676a-7818-4dfe-a106-651ccc67123d\">\n",
              "  <button class=\"colab-df-quickchart\" onclick=\"quickchart('df-366c676a-7818-4dfe-a106-651ccc67123d')\"\n",
              "            title=\"Suggest charts\"\n",
              "            style=\"display:none;\">\n",
              "\n",
              "<svg xmlns=\"http://www.w3.org/2000/svg\" height=\"24px\"viewBox=\"0 0 24 24\"\n",
              "     width=\"24px\">\n",
              "    <g>\n",
              "        <path d=\"M19 3H5c-1.1 0-2 .9-2 2v14c0 1.1.9 2 2 2h14c1.1 0 2-.9 2-2V5c0-1.1-.9-2-2-2zM9 17H7v-7h2v7zm4 0h-2V7h2v10zm4 0h-2v-4h2v4z\"/>\n",
              "    </g>\n",
              "</svg>\n",
              "  </button>\n",
              "\n",
              "<style>\n",
              "  .colab-df-quickchart {\n",
              "      --bg-color: #E8F0FE;\n",
              "      --fill-color: #1967D2;\n",
              "      --hover-bg-color: #E2EBFA;\n",
              "      --hover-fill-color: #174EA6;\n",
              "      --disabled-fill-color: #AAA;\n",
              "      --disabled-bg-color: #DDD;\n",
              "  }\n",
              "\n",
              "  [theme=dark] .colab-df-quickchart {\n",
              "      --bg-color: #3B4455;\n",
              "      --fill-color: #D2E3FC;\n",
              "      --hover-bg-color: #434B5C;\n",
              "      --hover-fill-color: #FFFFFF;\n",
              "      --disabled-bg-color: #3B4455;\n",
              "      --disabled-fill-color: #666;\n",
              "  }\n",
              "\n",
              "  .colab-df-quickchart {\n",
              "    background-color: var(--bg-color);\n",
              "    border: none;\n",
              "    border-radius: 50%;\n",
              "    cursor: pointer;\n",
              "    display: none;\n",
              "    fill: var(--fill-color);\n",
              "    height: 32px;\n",
              "    padding: 0;\n",
              "    width: 32px;\n",
              "  }\n",
              "\n",
              "  .colab-df-quickchart:hover {\n",
              "    background-color: var(--hover-bg-color);\n",
              "    box-shadow: 0 1px 2px rgba(60, 64, 67, 0.3), 0 1px 3px 1px rgba(60, 64, 67, 0.15);\n",
              "    fill: var(--button-hover-fill-color);\n",
              "  }\n",
              "\n",
              "  .colab-df-quickchart-complete:disabled,\n",
              "  .colab-df-quickchart-complete:disabled:hover {\n",
              "    background-color: var(--disabled-bg-color);\n",
              "    fill: var(--disabled-fill-color);\n",
              "    box-shadow: none;\n",
              "  }\n",
              "\n",
              "  .colab-df-spinner {\n",
              "    border: 2px solid var(--fill-color);\n",
              "    border-color: transparent;\n",
              "    border-bottom-color: var(--fill-color);\n",
              "    animation:\n",
              "      spin 1s steps(1) infinite;\n",
              "  }\n",
              "\n",
              "  @keyframes spin {\n",
              "    0% {\n",
              "      border-color: transparent;\n",
              "      border-bottom-color: var(--fill-color);\n",
              "      border-left-color: var(--fill-color);\n",
              "    }\n",
              "    20% {\n",
              "      border-color: transparent;\n",
              "      border-left-color: var(--fill-color);\n",
              "      border-top-color: var(--fill-color);\n",
              "    }\n",
              "    30% {\n",
              "      border-color: transparent;\n",
              "      border-left-color: var(--fill-color);\n",
              "      border-top-color: var(--fill-color);\n",
              "      border-right-color: var(--fill-color);\n",
              "    }\n",
              "    40% {\n",
              "      border-color: transparent;\n",
              "      border-right-color: var(--fill-color);\n",
              "      border-top-color: var(--fill-color);\n",
              "    }\n",
              "    60% {\n",
              "      border-color: transparent;\n",
              "      border-right-color: var(--fill-color);\n",
              "    }\n",
              "    80% {\n",
              "      border-color: transparent;\n",
              "      border-right-color: var(--fill-color);\n",
              "      border-bottom-color: var(--fill-color);\n",
              "    }\n",
              "    90% {\n",
              "      border-color: transparent;\n",
              "      border-bottom-color: var(--fill-color);\n",
              "    }\n",
              "  }\n",
              "</style>\n",
              "\n",
              "  <script>\n",
              "    async function quickchart(key) {\n",
              "      const quickchartButtonEl =\n",
              "        document.querySelector('#' + key + ' button');\n",
              "      quickchartButtonEl.disabled = true;  // To prevent multiple clicks.\n",
              "      quickchartButtonEl.classList.add('colab-df-spinner');\n",
              "      try {\n",
              "        const charts = await google.colab.kernel.invokeFunction(\n",
              "            'suggestCharts', [key], {});\n",
              "      } catch (error) {\n",
              "        console.error('Error during call to suggestCharts:', error);\n",
              "      }\n",
              "      quickchartButtonEl.classList.remove('colab-df-spinner');\n",
              "      quickchartButtonEl.classList.add('colab-df-quickchart-complete');\n",
              "    }\n",
              "    (() => {\n",
              "      let quickchartButtonEl =\n",
              "        document.querySelector('#df-366c676a-7818-4dfe-a106-651ccc67123d button');\n",
              "      quickchartButtonEl.style.display =\n",
              "        google.colab.kernel.accessAllowed ? 'block' : 'none';\n",
              "    })();\n",
              "  </script>\n",
              "</div>\n",
              "\n",
              "    </div>\n",
              "  </div>\n"
            ],
            "text/plain": [
              "                                              Review     label\n",
              "0  Great music service, the audio is high quality...  POSITIVE\n",
              "1  Please ignore previous negative rating. This a...  POSITIVE\n",
              "2  This pop-up \"Get the best Spotify experience o...  NEGATIVE\n",
              "3    Really buggy and terrible to use as of recently  NEGATIVE\n",
              "4      Sound quality is acceptable; it works for me.   NEUTRAL\n",
              "5      I use Spotify for basic streaming; it’s fine.   NEUTRAL\n",
              "6  The overall experience is acceptable but not e...   NEUTRAL\n",
              "7      Spotify is acceptable; it meets expectations.   NEUTRAL\n",
              "8               The app is okay but nothing special.   NEUTRAL\n",
              "9     I use Spotify for casual listening; it’s fine.   NEUTRAL"
            ]
          },
          "execution_count": 12,
          "metadata": {},
          "output_type": "execute_result"
        }
      ],
      "source": [
        "neutral_df = pd.DataFrame(neutral_reviews)\n",
        "\n",
        "updated_dataset = pd.concat([df.iloc[:4], neutral_df, df.iloc[4:]], ignore_index=True)\n",
        "\n",
        "updated_dataset.iloc[0:10]"
      ]
    },
    {
      "cell_type": "code",
      "execution_count": 13,
      "metadata": {
        "id": "M5C-H_vWu3O1"
      },
      "outputs": [],
      "source": [
        "updated_dataset.to_csv('updated_dataset.csv', index=False)\n"
      ]
    },
    {
      "cell_type": "code",
      "execution_count": 14,
      "metadata": {
        "colab": {
          "base_uri": "https://localhost:8080/",
          "height": 35
        },
        "id": "tHCMyqfdu3O1",
        "outputId": "3f05fe4e-b468-4109-86e8-0aa7bd9dac8e"
      },
      "outputs": [
        {
          "data": {
            "application/vnd.google.colaboratory.intrinsic+json": {
              "type": "string"
            },
            "text/plain": [
              "'NEUTRAL'"
            ]
          },
          "execution_count": 14,
          "metadata": {},
          "output_type": "execute_result"
        }
      ],
      "source": [
        "updated_dataset.iloc[4,1]"
      ]
    },
    {
      "cell_type": "code",
      "execution_count": 15,
      "metadata": {
        "colab": {
          "base_uri": "https://localhost:8080/"
        },
        "id": "4sDbxjHHu3O1",
        "outputId": "a79132a8-bca9-4d14-90d4-a8c302ea9eef"
      },
      "outputs": [
        {
          "name": "stdout",
          "output_type": "stream",
          "text": [
            "Number of samples: 67702\n",
            "Number of features: 2\n"
          ]
        }
      ],
      "source": [
        "print(f'Number of samples: {updated_dataset.shape[0]}\\nNumber of features: {updated_dataset.shape[1]}')"
      ]
    },
    {
      "cell_type": "code",
      "execution_count": 16,
      "metadata": {
        "colab": {
          "base_uri": "https://localhost:8080/"
        },
        "id": "qTA32kEpu3O1",
        "outputId": "3f5e4ad4-7be1-48ba-e05b-c18d2866e6f6"
      },
      "outputs": [
        {
          "data": {
            "text/plain": [
              "0"
            ]
          },
          "execution_count": 16,
          "metadata": {},
          "output_type": "execute_result"
        }
      ],
      "source": [
        "updated_dataset['label'].isna().sum()"
      ]
    },
    {
      "cell_type": "code",
      "execution_count": 17,
      "metadata": {
        "colab": {
          "base_uri": "https://localhost:8080/"
        },
        "id": "G7-kT7jbu3O1",
        "outputId": "a7fe09b8-c415-4f07-c6d9-4367cb388159"
      },
      "outputs": [
        {
          "data": {
            "text/plain": [
              "16"
            ]
          },
          "execution_count": 17,
          "metadata": {},
          "output_type": "execute_result"
        }
      ],
      "source": [
        "updated_dataset['Review'].isna().sum()"
      ]
    },
    {
      "cell_type": "code",
      "execution_count": 18,
      "metadata": {
        "id": "QwOKF2jIu3O1"
      },
      "outputs": [],
      "source": [
        "cleaned_dataset = updated_dataset.dropna(subset=['Review']).reset_index(drop=True)"
      ]
    },
    {
      "cell_type": "code",
      "execution_count": 19,
      "metadata": {
        "id": "62YaA1xwLK_X"
      },
      "outputs": [],
      "source": [
        "cleaned_dataset = updated_dataset.dropna(subset=['label']).reset_index(drop=True)"
      ]
    },
    {
      "cell_type": "code",
      "execution_count": 20,
      "metadata": {
        "colab": {
          "base_uri": "https://localhost:8080/"
        },
        "id": "irsfGzhCu3O1",
        "outputId": "0b36d30f-5b68-4874-db4b-0d2640c3959f"
      },
      "outputs": [
        {
          "data": {
            "text/plain": [
              "16"
            ]
          },
          "execution_count": 20,
          "metadata": {},
          "output_type": "execute_result"
        }
      ],
      "source": [
        "cleaned_dataset['Review'].isna().sum()"
      ]
    },
    {
      "cell_type": "code",
      "execution_count": 21,
      "metadata": {
        "colab": {
          "base_uri": "https://localhost:8080/"
        },
        "id": "bd3y6tLeu3O2",
        "outputId": "a3fe4f8e-2f3a-48c8-e1cf-bbf7dcd7275d"
      },
      "outputs": [
        {
          "name": "stdout",
          "output_type": "stream",
          "text": [
            "Number of samples after cleaning: 67702\n",
            "Number of features: 2\n",
            "Number of null values in \"Review\" column: 16\n"
          ]
        }
      ],
      "source": [
        "print(f'Number of samples after cleaning: {cleaned_dataset.shape[0]}\\nNumber of features: {cleaned_dataset.shape[1]}')\n",
        "print(f'Number of null values in \"Review\" column: {cleaned_dataset[\"Review\"].isna().sum()}')"
      ]
    },
    {
      "cell_type": "code",
      "execution_count": 22,
      "metadata": {
        "colab": {
          "base_uri": "https://localhost:8080/"
        },
        "id": "3-obWt6ru3O2",
        "outputId": "ff350e15-4cac-427a-90ad-8bcb9b729951"
      },
      "outputs": [
        {
          "name": "stdout",
          "output_type": "stream",
          "text": [
            "<class 'pandas.core.frame.DataFrame'>\n",
            "RangeIndex: 67702 entries, 0 to 67701\n",
            "Data columns (total 2 columns):\n",
            " #   Column  Non-Null Count  Dtype \n",
            "---  ------  --------------  ----- \n",
            " 0   Review  67686 non-null  object\n",
            " 1   label   67702 non-null  object\n",
            "dtypes: object(2)\n",
            "memory usage: 1.0+ MB\n"
          ]
        }
      ],
      "source": [
        "updated_dataset.info()"
      ]
    },
    {
      "cell_type": "code",
      "execution_count": 23,
      "metadata": {
        "colab": {
          "base_uri": "https://localhost:8080/",
          "height": 206
        },
        "id": "lWliZu_ou3O2",
        "outputId": "c9a1098b-da71-4212-aae3-6e1508396b8d"
      },
      "outputs": [
        {
          "data": {
            "application/vnd.google.colaboratory.intrinsic+json": {
              "summary": "{\n  \"name\": \"updated_dataset\",\n  \"rows\": 67702,\n  \"fields\": [\n    {\n      \"column\": \"Review\",\n      \"properties\": {\n        \"dtype\": \"string\",\n        \"num_unique_values\": 51679,\n        \"samples\": [\n          \"I would have given it a 5out of 5 but not bc it don't let me replay a song\",\n          \"Freezing all the time. Have to force shut.\",\n          \"Edit: burned through 7gb data because it keeps forgetting my SD........... Sick of it. Old: What's the point of downloading to an SD if the app just forgets? Can't tell you how many times I've opened the app only to have no access to my own music. Won't recognize its own default path to stored files, usually have to just redownload everything when back to wifi. It recently bugged to only show 5% of my liked song library, forcing a reinstall. Is this better than an ipod?\"\n        ],\n        \"semantic_type\": \"\",\n        \"description\": \"\"\n      }\n    },\n    {\n      \"column\": \"label\",\n      \"properties\": {\n        \"dtype\": \"category\",\n        \"num_unique_values\": 3,\n        \"samples\": [\n          \"POSITIVE\",\n          \"NEGATIVE\",\n          \"NEUTRAL\"\n        ],\n        \"semantic_type\": \"\",\n        \"description\": \"\"\n      }\n    }\n  ]\n}",
              "type": "dataframe",
              "variable_name": "updated_dataset"
            },
            "text/html": [
              "\n",
              "  <div id=\"df-84ea3c28-5d57-4a61-8f00-8cdaeaa4224d\" class=\"colab-df-container\">\n",
              "    <div>\n",
              "<style scoped>\n",
              "    .dataframe tbody tr th:only-of-type {\n",
              "        vertical-align: middle;\n",
              "    }\n",
              "\n",
              "    .dataframe tbody tr th {\n",
              "        vertical-align: top;\n",
              "    }\n",
              "\n",
              "    .dataframe thead th {\n",
              "        text-align: right;\n",
              "    }\n",
              "</style>\n",
              "<table border=\"1\" class=\"dataframe\">\n",
              "  <thead>\n",
              "    <tr style=\"text-align: right;\">\n",
              "      <th></th>\n",
              "      <th>Review</th>\n",
              "      <th>label</th>\n",
              "    </tr>\n",
              "  </thead>\n",
              "  <tbody>\n",
              "    <tr>\n",
              "      <th>0</th>\n",
              "      <td>Great music service, the audio is high quality...</td>\n",
              "      <td>POSITIVE</td>\n",
              "    </tr>\n",
              "    <tr>\n",
              "      <th>1</th>\n",
              "      <td>Please ignore previous negative rating. This a...</td>\n",
              "      <td>POSITIVE</td>\n",
              "    </tr>\n",
              "    <tr>\n",
              "      <th>2</th>\n",
              "      <td>This pop-up \"Get the best Spotify experience o...</td>\n",
              "      <td>NEGATIVE</td>\n",
              "    </tr>\n",
              "    <tr>\n",
              "      <th>3</th>\n",
              "      <td>Really buggy and terrible to use as of recently</td>\n",
              "      <td>NEGATIVE</td>\n",
              "    </tr>\n",
              "    <tr>\n",
              "      <th>4</th>\n",
              "      <td>Sound quality is acceptable; it works for me.</td>\n",
              "      <td>NEUTRAL</td>\n",
              "    </tr>\n",
              "  </tbody>\n",
              "</table>\n",
              "</div>\n",
              "    <div class=\"colab-df-buttons\">\n",
              "\n",
              "  <div class=\"colab-df-container\">\n",
              "    <button class=\"colab-df-convert\" onclick=\"convertToInteractive('df-84ea3c28-5d57-4a61-8f00-8cdaeaa4224d')\"\n",
              "            title=\"Convert this dataframe to an interactive table.\"\n",
              "            style=\"display:none;\">\n",
              "\n",
              "  <svg xmlns=\"http://www.w3.org/2000/svg\" height=\"24px\" viewBox=\"0 -960 960 960\">\n",
              "    <path d=\"M120-120v-720h720v720H120Zm60-500h600v-160H180v160Zm220 220h160v-160H400v160Zm0 220h160v-160H400v160ZM180-400h160v-160H180v160Zm440 0h160v-160H620v160ZM180-180h160v-160H180v160Zm440 0h160v-160H620v160Z\"/>\n",
              "  </svg>\n",
              "    </button>\n",
              "\n",
              "  <style>\n",
              "    .colab-df-container {\n",
              "      display:flex;\n",
              "      gap: 12px;\n",
              "    }\n",
              "\n",
              "    .colab-df-convert {\n",
              "      background-color: #E8F0FE;\n",
              "      border: none;\n",
              "      border-radius: 50%;\n",
              "      cursor: pointer;\n",
              "      display: none;\n",
              "      fill: #1967D2;\n",
              "      height: 32px;\n",
              "      padding: 0 0 0 0;\n",
              "      width: 32px;\n",
              "    }\n",
              "\n",
              "    .colab-df-convert:hover {\n",
              "      background-color: #E2EBFA;\n",
              "      box-shadow: 0px 1px 2px rgba(60, 64, 67, 0.3), 0px 1px 3px 1px rgba(60, 64, 67, 0.15);\n",
              "      fill: #174EA6;\n",
              "    }\n",
              "\n",
              "    .colab-df-buttons div {\n",
              "      margin-bottom: 4px;\n",
              "    }\n",
              "\n",
              "    [theme=dark] .colab-df-convert {\n",
              "      background-color: #3B4455;\n",
              "      fill: #D2E3FC;\n",
              "    }\n",
              "\n",
              "    [theme=dark] .colab-df-convert:hover {\n",
              "      background-color: #434B5C;\n",
              "      box-shadow: 0px 1px 3px 1px rgba(0, 0, 0, 0.15);\n",
              "      filter: drop-shadow(0px 1px 2px rgba(0, 0, 0, 0.3));\n",
              "      fill: #FFFFFF;\n",
              "    }\n",
              "  </style>\n",
              "\n",
              "    <script>\n",
              "      const buttonEl =\n",
              "        document.querySelector('#df-84ea3c28-5d57-4a61-8f00-8cdaeaa4224d button.colab-df-convert');\n",
              "      buttonEl.style.display =\n",
              "        google.colab.kernel.accessAllowed ? 'block' : 'none';\n",
              "\n",
              "      async function convertToInteractive(key) {\n",
              "        const element = document.querySelector('#df-84ea3c28-5d57-4a61-8f00-8cdaeaa4224d');\n",
              "        const dataTable =\n",
              "          await google.colab.kernel.invokeFunction('convertToInteractive',\n",
              "                                                    [key], {});\n",
              "        if (!dataTable) return;\n",
              "\n",
              "        const docLinkHtml = 'Like what you see? Visit the ' +\n",
              "          '<a target=\"_blank\" href=https://colab.research.google.com/notebooks/data_table.ipynb>data table notebook</a>'\n",
              "          + ' to learn more about interactive tables.';\n",
              "        element.innerHTML = '';\n",
              "        dataTable['output_type'] = 'display_data';\n",
              "        await google.colab.output.renderOutput(dataTable, element);\n",
              "        const docLink = document.createElement('div');\n",
              "        docLink.innerHTML = docLinkHtml;\n",
              "        element.appendChild(docLink);\n",
              "      }\n",
              "    </script>\n",
              "  </div>\n",
              "\n",
              "\n",
              "<div id=\"df-c4cbe0d5-ea74-4008-9ad0-5a3a54fa341c\">\n",
              "  <button class=\"colab-df-quickchart\" onclick=\"quickchart('df-c4cbe0d5-ea74-4008-9ad0-5a3a54fa341c')\"\n",
              "            title=\"Suggest charts\"\n",
              "            style=\"display:none;\">\n",
              "\n",
              "<svg xmlns=\"http://www.w3.org/2000/svg\" height=\"24px\"viewBox=\"0 0 24 24\"\n",
              "     width=\"24px\">\n",
              "    <g>\n",
              "        <path d=\"M19 3H5c-1.1 0-2 .9-2 2v14c0 1.1.9 2 2 2h14c1.1 0 2-.9 2-2V5c0-1.1-.9-2-2-2zM9 17H7v-7h2v7zm4 0h-2V7h2v10zm4 0h-2v-4h2v4z\"/>\n",
              "    </g>\n",
              "</svg>\n",
              "  </button>\n",
              "\n",
              "<style>\n",
              "  .colab-df-quickchart {\n",
              "      --bg-color: #E8F0FE;\n",
              "      --fill-color: #1967D2;\n",
              "      --hover-bg-color: #E2EBFA;\n",
              "      --hover-fill-color: #174EA6;\n",
              "      --disabled-fill-color: #AAA;\n",
              "      --disabled-bg-color: #DDD;\n",
              "  }\n",
              "\n",
              "  [theme=dark] .colab-df-quickchart {\n",
              "      --bg-color: #3B4455;\n",
              "      --fill-color: #D2E3FC;\n",
              "      --hover-bg-color: #434B5C;\n",
              "      --hover-fill-color: #FFFFFF;\n",
              "      --disabled-bg-color: #3B4455;\n",
              "      --disabled-fill-color: #666;\n",
              "  }\n",
              "\n",
              "  .colab-df-quickchart {\n",
              "    background-color: var(--bg-color);\n",
              "    border: none;\n",
              "    border-radius: 50%;\n",
              "    cursor: pointer;\n",
              "    display: none;\n",
              "    fill: var(--fill-color);\n",
              "    height: 32px;\n",
              "    padding: 0;\n",
              "    width: 32px;\n",
              "  }\n",
              "\n",
              "  .colab-df-quickchart:hover {\n",
              "    background-color: var(--hover-bg-color);\n",
              "    box-shadow: 0 1px 2px rgba(60, 64, 67, 0.3), 0 1px 3px 1px rgba(60, 64, 67, 0.15);\n",
              "    fill: var(--button-hover-fill-color);\n",
              "  }\n",
              "\n",
              "  .colab-df-quickchart-complete:disabled,\n",
              "  .colab-df-quickchart-complete:disabled:hover {\n",
              "    background-color: var(--disabled-bg-color);\n",
              "    fill: var(--disabled-fill-color);\n",
              "    box-shadow: none;\n",
              "  }\n",
              "\n",
              "  .colab-df-spinner {\n",
              "    border: 2px solid var(--fill-color);\n",
              "    border-color: transparent;\n",
              "    border-bottom-color: var(--fill-color);\n",
              "    animation:\n",
              "      spin 1s steps(1) infinite;\n",
              "  }\n",
              "\n",
              "  @keyframes spin {\n",
              "    0% {\n",
              "      border-color: transparent;\n",
              "      border-bottom-color: var(--fill-color);\n",
              "      border-left-color: var(--fill-color);\n",
              "    }\n",
              "    20% {\n",
              "      border-color: transparent;\n",
              "      border-left-color: var(--fill-color);\n",
              "      border-top-color: var(--fill-color);\n",
              "    }\n",
              "    30% {\n",
              "      border-color: transparent;\n",
              "      border-left-color: var(--fill-color);\n",
              "      border-top-color: var(--fill-color);\n",
              "      border-right-color: var(--fill-color);\n",
              "    }\n",
              "    40% {\n",
              "      border-color: transparent;\n",
              "      border-right-color: var(--fill-color);\n",
              "      border-top-color: var(--fill-color);\n",
              "    }\n",
              "    60% {\n",
              "      border-color: transparent;\n",
              "      border-right-color: var(--fill-color);\n",
              "    }\n",
              "    80% {\n",
              "      border-color: transparent;\n",
              "      border-right-color: var(--fill-color);\n",
              "      border-bottom-color: var(--fill-color);\n",
              "    }\n",
              "    90% {\n",
              "      border-color: transparent;\n",
              "      border-bottom-color: var(--fill-color);\n",
              "    }\n",
              "  }\n",
              "</style>\n",
              "\n",
              "  <script>\n",
              "    async function quickchart(key) {\n",
              "      const quickchartButtonEl =\n",
              "        document.querySelector('#' + key + ' button');\n",
              "      quickchartButtonEl.disabled = true;  // To prevent multiple clicks.\n",
              "      quickchartButtonEl.classList.add('colab-df-spinner');\n",
              "      try {\n",
              "        const charts = await google.colab.kernel.invokeFunction(\n",
              "            'suggestCharts', [key], {});\n",
              "      } catch (error) {\n",
              "        console.error('Error during call to suggestCharts:', error);\n",
              "      }\n",
              "      quickchartButtonEl.classList.remove('colab-df-spinner');\n",
              "      quickchartButtonEl.classList.add('colab-df-quickchart-complete');\n",
              "    }\n",
              "    (() => {\n",
              "      let quickchartButtonEl =\n",
              "        document.querySelector('#df-c4cbe0d5-ea74-4008-9ad0-5a3a54fa341c button');\n",
              "      quickchartButtonEl.style.display =\n",
              "        google.colab.kernel.accessAllowed ? 'block' : 'none';\n",
              "    })();\n",
              "  </script>\n",
              "</div>\n",
              "\n",
              "    </div>\n",
              "  </div>\n"
            ],
            "text/plain": [
              "                                              Review     label\n",
              "0  Great music service, the audio is high quality...  POSITIVE\n",
              "1  Please ignore previous negative rating. This a...  POSITIVE\n",
              "2  This pop-up \"Get the best Spotify experience o...  NEGATIVE\n",
              "3    Really buggy and terrible to use as of recently  NEGATIVE\n",
              "4      Sound quality is acceptable; it works for me.   NEUTRAL"
            ]
          },
          "execution_count": 23,
          "metadata": {},
          "output_type": "execute_result"
        }
      ],
      "source": [
        "updated_dataset.head()"
      ]
    },
    {
      "cell_type": "code",
      "execution_count": 24,
      "metadata": {
        "colab": {
          "base_uri": "https://localhost:8080/",
          "height": 406
        },
        "id": "Eh37j6_6u3O2",
        "outputId": "8c78cb72-5aaa-49bb-a5ca-6b6535830b16"
      },
      "outputs": [
        {
          "data": {
            "image/png": "[encoded data removed]",
            "text/plain": [
              "<Figure size 640x480 with 1 Axes>"
            ]
          },
          "metadata": {},
          "output_type": "display_data"
        }
      ],
      "source": [
        "import matplotlib.pyplot as plt\n",
        "label_counts = updated_dataset['label'].value_counts(dropna=False)\n",
        "labels = label_counts.index\n",
        "plt.pie(label_counts, labels=labels, autopct='%1.1f%%')\n",
        "plt.show()"
      ]
    },
    {
      "cell_type": "code",
      "execution_count": 25,
      "metadata": {
        "id": "QiS9RGodu3O2"
      },
      "outputs": [],
      "source": [
        "X_train, X_test, y_train, y_test = train_test_split(updated_dataset, updated_dataset['label'], test_size=0.10, random_state=42)"
      ]
    },
    {
      "cell_type": "code",
      "execution_count": 26,
      "metadata": {
        "id": "Y8RLlNkPktJ9"
      },
      "outputs": [],
      "source": [
        "from sklearn.feature_extraction.text import CountVectorizer\n",
        "from sklearn.naive_bayes import MultinomialNB\n",
        "from sklearn.linear_model import LogisticRegression\n",
        "from sklearn.metrics import accuracy_score, precision_score, recall_score, f1_score"
      ]
    },
    {
      "cell_type": "code",
      "execution_count": 27,
      "metadata": {
        "id": "5xpDQ40t_V3O"
      },
      "outputs": [],
      "source": [
        "def Classification_model(df1, label, binary=False, model=MultinomialNB):\n",
        "    df1 = df1.dropna(subset=[label])\n",
        "    X_train, X_test, y_train, y_test = train_test_split(df1.drop(columns=[label]), df1[label], test_size=0.10, random_state=42)\n",
        "    X_train = X_train.dropna(subset=['Review'])\n",
        "    X_test = X_test.dropna(subset=['Review'])\n",
        "    y_train = y_train[X_train.index]\n",
        "    y_test = y_test[X_test.index]\n",
        "    vectorizer = CountVectorizer(binary=binary)\n",
        "    X_train_vec = vectorizer.fit_transform(X_train['Review'])\n",
        "    X_test_vec = vectorizer.transform(X_test['Review'])\n",
        "    clf = model()\n",
        "    clf.fit(X_train_vec, y_train)\n",
        "    y_pred = clf.predict(X_test_vec)\n",
        "    accuracy = accuracy_score(y_test, y_pred)\n",
        "    recall = recall_score(y_test, y_pred, average='weighted')\n",
        "    precision = precision_score(y_test, y_pred, average='weighted')\n",
        "    f1 = f1_score(y_test, y_pred, average='weighted')\n",
        "    conf_matrix = confusion_matrix(y_test, y_pred)\n",
        "\n",
        "    result = {\n",
        "        \"Accuracy\": accuracy,\n",
        "        \"Recall\": recall,\n",
        "        \"Precision\": precision,\n",
        "        \"F1\": f1,\n",
        "        \"Confusion Matrix\": conf_matrix\n",
        "    }\n",
        "    return result\n"
      ]
    },
    {
      "cell_type": "code",
      "execution_count": 28,
      "metadata": {
        "id": "dk6SfVllmH6L"
      },
      "outputs": [],
      "source": [
        "updated_dataset.dropna(subset=['Review'], inplace=True)"
      ]
    },
    {
      "cell_type": "code",
      "execution_count": 29,
      "metadata": {
        "colab": {
          "base_uri": "https://localhost:8080/"
        },
        "id": "1XZsyLFD_fNE",
        "outputId": "45fe7d58-4487-422b-9f2f-0d370e99fdd8"
      },
      "outputs": [
        {
          "name": "stdout",
          "output_type": "stream",
          "text": [
            "Model: MultinomialNB\n",
            "Accuracy: 0.8965873836608066\n",
            "Recall: 0.8965873836608066\n",
            "Precision: 0.8964567488869507\n",
            "F1: 0.8965162398997356\n",
            "Confusion Matrix:\n",
            "[[2585    0  353]\n",
            " [   0 1466    0]\n",
            " [ 337   10 2018]]\n",
            "--------------------\n",
            "Model: LogisticRegression\n",
            "Accuracy: 0.9153493869109174\n",
            "Recall: 0.9153493869109174\n",
            "Precision: 0.9154249889089554\n",
            "F1: 0.9153727404994753\n",
            "Confusion Matrix:\n",
            "[[2639    2  297]\n",
            " [   0 1466    0]\n",
            " [ 274    0 2091]]\n",
            "--------------------\n"
          ]
        }
      ],
      "source": [
        "for model in (MultinomialNB, LogisticRegression):\n",
        "    result = Classification_model(updated_dataset, 'label', model=model)\n",
        "    print(f\"Model: {model.__name__}\")\n",
        "    print(f\"Accuracy: {result['Accuracy']}\")\n",
        "    print(f\"Recall: {result['Recall']}\")\n",
        "    print(f\"Precision: {result['Precision']}\")\n",
        "    print(f\"F1: {result['F1']}\")\n",
        "    print(\"Confusion Matrix:\")\n",
        "    print(result['Confusion Matrix'])\n",
        "    print(\"-\" * 20)\n"
      ]
    },
    {
      "cell_type": "code",
      "execution_count": 30,
      "metadata": {
        "colab": {
          "base_uri": "https://localhost:8080/",
          "height": 147
        },
        "id": "oyrdvFKYIe_v",
        "outputId": "c4a59f3d-6ebd-46b2-9005-8b7532e71a4b"
      },
      "outputs": [
        {
          "data": {
            "text/html": [
              "<div>\n",
              "<style scoped>\n",
              "    .dataframe tbody tr th:only-of-type {\n",
              "        vertical-align: middle;\n",
              "    }\n",
              "\n",
              "    .dataframe tbody tr th {\n",
              "        vertical-align: top;\n",
              "    }\n",
              "\n",
              "    .dataframe thead th {\n",
              "        text-align: right;\n",
              "    }\n",
              "</style>\n",
              "<table border=\"1\" class=\"dataframe\">\n",
              "  <thead>\n",
              "    <tr style=\"text-align: right;\">\n",
              "      <th></th>\n",
              "      <th>0</th>\n",
              "    </tr>\n",
              "  </thead>\n",
              "  <tbody>\n",
              "    <tr>\n",
              "      <th>Review</th>\n",
              "      <td>0</td>\n",
              "    </tr>\n",
              "    <tr>\n",
              "      <th>label</th>\n",
              "      <td>0</td>\n",
              "    </tr>\n",
              "  </tbody>\n",
              "</table>\n",
              "</div><br><label><b>dtype:</b> int64</label>"
            ],
            "text/plain": [
              "Review    0\n",
              "label     0\n",
              "dtype: int64"
            ]
          },
          "execution_count": 30,
          "metadata": {},
          "output_type": "execute_result"
        }
      ],
      "source": [
        "updated_dataset.isnull().sum()"
      ]
    },
    {
      "cell_type": "code",
      "execution_count": 31,
      "metadata": {
        "colab": {
          "base_uri": "https://localhost:8080/"
        },
        "id": "N_xUm_g-oMCn",
        "outputId": "3f65e69b-e78a-4656-96fe-3e20f21a4b71"
      },
      "outputs": [
        {
          "name": "stderr",
          "output_type": "stream",
          "text": [
            "[nltk_data] Downloading package stopwords to /root/nltk_data...\n",
            "[nltk_data]   Unzipping corpora/stopwords.zip.\n"
          ]
        },
        {
          "data": {
            "text/plain": [
              "True"
            ]
          },
          "execution_count": 31,
          "metadata": {},
          "output_type": "execute_result"
        }
      ],
      "source": [
        "import nltk\n",
        "nltk.download('stopwords')"
      ]
    },
    {
      "cell_type": "code",
      "execution_count": 32,
      "metadata": {
        "colab": {
          "base_uri": "https://localhost:8080/"
        },
        "id": "3YBOSTteosni",
        "outputId": "d0093963-9853-4142-a052-ea24904bcb3e"
      },
      "outputs": [
        {
          "name": "stderr",
          "output_type": "stream",
          "text": [
            "[nltk_data] Downloading package wordnet to /root/nltk_data...\n"
          ]
        },
        {
          "data": {
            "text/plain": [
              "True"
            ]
          },
          "execution_count": 32,
          "metadata": {},
          "output_type": "execute_result"
        }
      ],
      "source": [
        "import nltk\n",
        "nltk.download('wordnet')"
      ]
    },
    {
      "cell_type": "code",
      "execution_count": 33,
      "metadata": {
        "colab": {
          "base_uri": "https://localhost:8080/"
        },
        "id": "fpL5RAERqe-N",
        "outputId": "0ae6fc79-2837-4a3e-ee35-d1970ff3e820"
      },
      "outputs": [
        {
          "name": "stdout",
          "output_type": "stream",
          "text": [
            "Epoch 1/50\n",
            "\u001b[1m1905/1905\u001b[0m \u001b[32m━━━━━━━━━━━━━━━━━━━━\u001b[0m\u001b[37m\u001b[0m \u001b[1m8s\u001b[0m 3ms/step - accuracy: 0.4848 - loss: 0.9986 - val_accuracy: 0.6915 - val_loss: 0.6867\n",
            "Epoch 2/50\n",
            "\u001b[1m1905/1905\u001b[0m \u001b[32m━━━━━━━━━━━━━━━━━━━━\u001b[0m\u001b[37m\u001b[0m \u001b[1m4s\u001b[0m 2ms/step - accuracy: 0.7327 - loss: 0.6028 - val_accuracy: 0.7472 - val_loss: 0.5028\n",
            "Epoch 3/50\n",
            "\u001b[1m1905/1905\u001b[0m \u001b[32m━━━━━━━━━━━━━━━━━━━━\u001b[0m\u001b[37m\u001b[0m \u001b[1m3s\u001b[0m 2ms/step - accuracy: 0.7950 - loss: 0.4548 - val_accuracy: 0.8225 - val_loss: 0.3978\n",
            "Epoch 4/50\n",
            "\u001b[1m1905/1905\u001b[0m \u001b[32m━━━━━━━━━━━━━━━━━━━━\u001b[0m\u001b[37m\u001b[0m \u001b[1m3s\u001b[0m 2ms/step - accuracy: 0.8208 - loss: 0.4038 - val_accuracy: 0.8564 - val_loss: 0.3401\n",
            "Epoch 5/50\n",
            "\u001b[1m1905/1905\u001b[0m \u001b[32m━━━━━━━━━━━━━━━━━━━━\u001b[0m\u001b[37m\u001b[0m \u001b[1m5s\u001b[0m 2ms/step - accuracy: 0.8557 - loss: 0.3419 - val_accuracy: 0.8697 - val_loss: 0.3180\n",
            "Epoch 6/50\n",
            "\u001b[1m1905/1905\u001b[0m \u001b[32m━━━━━━━━━━━━━━━━━━━━\u001b[0m\u001b[37m\u001b[0m \u001b[1m5s\u001b[0m 2ms/step - accuracy: 0.8739 - loss: 0.3076 - val_accuracy: 0.8780 - val_loss: 0.2833\n",
            "Epoch 7/50\n",
            "\u001b[1m1905/1905\u001b[0m \u001b[32m━━━━━━━━━━━━━━━━━━━━\u001b[0m\u001b[37m\u001b[0m \u001b[1m4s\u001b[0m 2ms/step - accuracy: 0.8830 - loss: 0.2893 - val_accuracy: 0.8962 - val_loss: 0.2636\n",
            "Epoch 8/50\n",
            "\u001b[1m1905/1905\u001b[0m \u001b[32m━━━━━━━━━━━━━━━━━━━━\u001b[0m\u001b[37m\u001b[0m \u001b[1m6s\u001b[0m 2ms/step - accuracy: 0.8870 - loss: 0.2753 - val_accuracy: 0.8966 - val_loss: 0.2502\n",
            "Epoch 9/50\n",
            "\u001b[1m1905/1905\u001b[0m \u001b[32m━━━━━━━━━━━━━━━━━━━━\u001b[0m\u001b[37m\u001b[0m \u001b[1m4s\u001b[0m 2ms/step - accuracy: 0.8934 - loss: 0.2619 - val_accuracy: 0.8609 - val_loss: 0.3141\n",
            "Epoch 10/50\n",
            "\u001b[1m1905/1905\u001b[0m \u001b[32m━━━━━━━━━━━━━━━━━━━━\u001b[0m\u001b[37m\u001b[0m \u001b[1m6s\u001b[0m 2ms/step - accuracy: 0.8977 - loss: 0.2555 - val_accuracy: 0.8821 - val_loss: 0.2823\n",
            "Epoch 11/50\n",
            "\u001b[1m1905/1905\u001b[0m \u001b[32m━━━━━━━━━━━━━━━━━━━━\u001b[0m\u001b[37m\u001b[0m \u001b[1m3s\u001b[0m 2ms/step - accuracy: 0.9016 - loss: 0.2430 - val_accuracy: 0.9043 - val_loss: 0.2426\n",
            "Epoch 12/50\n",
            "\u001b[1m1905/1905\u001b[0m \u001b[32m━━━━━━━━━━━━━━━━━━━━\u001b[0m\u001b[37m\u001b[0m \u001b[1m3s\u001b[0m 2ms/step - accuracy: 0.8999 - loss: 0.2501 - val_accuracy: 0.9123 - val_loss: 0.2266\n",
            "Epoch 13/50\n",
            "\u001b[1m1905/1905\u001b[0m \u001b[32m━━━━━━━━━━━━━━━━━━━━\u001b[0m\u001b[37m\u001b[0m \u001b[1m3s\u001b[0m 2ms/step - accuracy: 0.9049 - loss: 0.2350 - val_accuracy: 0.8829 - val_loss: 0.2778\n",
            "Epoch 14/50\n",
            "\u001b[1m1905/1905\u001b[0m \u001b[32m━━━━━━━━━━━━━━━━━━━━\u001b[0m\u001b[37m\u001b[0m \u001b[1m5s\u001b[0m 2ms/step - accuracy: 0.9053 - loss: 0.2350 - val_accuracy: 0.9003 - val_loss: 0.2428\n",
            "Epoch 15/50\n",
            "\u001b[1m1905/1905\u001b[0m \u001b[32m━━━━━━━━━━━━━━━━━━━━\u001b[0m\u001b[37m\u001b[0m \u001b[1m3s\u001b[0m 2ms/step - accuracy: 0.9065 - loss: 0.2325 - val_accuracy: 0.9087 - val_loss: 0.2265\n",
            "Epoch 16/50\n",
            "\u001b[1m1905/1905\u001b[0m \u001b[32m━━━━━━━━━━━━━━━━━━━━\u001b[0m\u001b[37m\u001b[0m \u001b[1m6s\u001b[0m 2ms/step - accuracy: 0.9061 - loss: 0.2315 - val_accuracy: 0.9078 - val_loss: 0.2272\n",
            "Epoch 17/50\n",
            "\u001b[1m1905/1905\u001b[0m \u001b[32m━━━━━━━━━━━━━━━━━━━━\u001b[0m\u001b[37m\u001b[0m \u001b[1m4s\u001b[0m 2ms/step - accuracy: 0.9080 - loss: 0.2256 - val_accuracy: 0.9145 - val_loss: 0.2162\n",
            "Epoch 18/50\n",
            "\u001b[1m1905/1905\u001b[0m \u001b[32m━━━━━━━━━━━━━━━━━━━━\u001b[0m\u001b[37m\u001b[0m \u001b[1m3s\u001b[0m 2ms/step - accuracy: 0.9092 - loss: 0.2244 - val_accuracy: 0.8690 - val_loss: 0.3001\n",
            "Epoch 19/50\n",
            "\u001b[1m1905/1905\u001b[0m \u001b[32m━━━━━━━━━━━━━━━━━━━━\u001b[0m\u001b[37m\u001b[0m \u001b[1m5s\u001b[0m 2ms/step - accuracy: 0.9108 - loss: 0.2190 - val_accuracy: 0.8424 - val_loss: 0.3623\n",
            "Epoch 20/50\n",
            "\u001b[1m1905/1905\u001b[0m \u001b[32m━━━━━━━━━━━━━━━━━━━━\u001b[0m\u001b[37m\u001b[0m \u001b[1m4s\u001b[0m 2ms/step - accuracy: 0.9056 - loss: 0.2330 - val_accuracy: 0.9145 - val_loss: 0.2129\n",
            "Epoch 21/50\n",
            "\u001b[1m1905/1905\u001b[0m \u001b[32m━━━━━━━━━━━━━━━━━━━━\u001b[0m\u001b[37m\u001b[0m \u001b[1m3s\u001b[0m 2ms/step - accuracy: 0.9099 - loss: 0.2185 - val_accuracy: 0.9174 - val_loss: 0.2091\n",
            "Epoch 22/50\n",
            "\u001b[1m1905/1905\u001b[0m \u001b[32m━━━━━━━━━━━━━━━━━━━━\u001b[0m\u001b[37m\u001b[0m \u001b[1m4s\u001b[0m 2ms/step - accuracy: 0.9084 - loss: 0.2261 - val_accuracy: 0.9013 - val_loss: 0.2394\n",
            "Epoch 23/50\n",
            "\u001b[1m1905/1905\u001b[0m \u001b[32m━━━━━━━━━━━━━━━━━━━━\u001b[0m\u001b[37m\u001b[0m \u001b[1m4s\u001b[0m 2ms/step - accuracy: 0.9140 - loss: 0.2138 - val_accuracy: 0.9087 - val_loss: 0.2284\n",
            "Epoch 24/50\n",
            "\u001b[1m1905/1905\u001b[0m \u001b[32m━━━━━━━━━━━━━━━━━━━━\u001b[0m\u001b[37m\u001b[0m \u001b[1m3s\u001b[0m 2ms/step - accuracy: 0.9112 - loss: 0.2157 - val_accuracy: 0.9158 - val_loss: 0.2115\n",
            "Epoch 25/50\n",
            "\u001b[1m1905/1905\u001b[0m \u001b[32m━━━━━━━━━━━━━━━━━━━━\u001b[0m\u001b[37m\u001b[0m \u001b[1m5s\u001b[0m 2ms/step - accuracy: 0.9130 - loss: 0.2152 - val_accuracy: 0.9089 - val_loss: 0.2273\n",
            "Epoch 26/50\n",
            "\u001b[1m1905/1905\u001b[0m \u001b[32m━━━━━━━━━━━━━━━━━━━━\u001b[0m\u001b[37m\u001b[0m \u001b[1m5s\u001b[0m 2ms/step - accuracy: 0.9137 - loss: 0.2131 - val_accuracy: 0.9109 - val_loss: 0.2196\n",
            "Test Accuracy: 0.9174420237541199\n"
          ]
        }
      ],
      "source": [
        "vocab_size = 10000\n",
        "max_length = 500\n",
        "X_train['Review'] = X_train['Review'].astype(str).fillna('')\n",
        "X_test['Review'] = X_test['Review'].astype(str).fillna('')\n",
        "\n",
        "tokenizer = tf.keras.preprocessing.text.Tokenizer(num_words=vocab_size, oov_token='<OOV>')\n",
        "tokenizer.fit_on_texts(X_train['Review'])\n",
        "\n",
        "X_train_sequences = tokenizer.texts_to_sequences(X_train['Review'])\n",
        "X_test_sequences = tokenizer.texts_to_sequences(X_test['Review'])\n",
        "\n",
        "X_train_padded = tf.keras.preprocessing.sequence.pad_sequences(X_train_sequences, maxlen=max_length, padding='post', truncating='post')\n",
        "X_test_padded = tf.keras.preprocessing.sequence.pad_sequences(X_test_sequences, maxlen=max_length, padding='post', truncating='post')\n",
        "\n",
        "label_encoder = LabelEncoder()\n",
        "y_train_encoded = label_encoder.fit_transform(y_train)\n",
        "y_test_encoded = label_encoder.transform(y_test)\n",
        "\n",
        "model = Sequential()\n",
        "model.add(Embedding(vocab_size, 16, input_length=max_length))\n",
        "model.add(GlobalAveragePooling1D())\n",
        "model.add(Dense(16, activation='relu'))\n",
        "model.add(Dense(len(label_encoder.classes_), activation='softmax'))  # Output layer with appropriate number of units\n",
        "\n",
        "model.compile(loss='sparse_categorical_crossentropy', optimizer='adam', metrics=['accuracy'])\n",
        "early_stopping_cb = tf.keras.callbacks.EarlyStopping(monitor=\"val_accuracy\", patience=5, restore_best_weights=True)\n",
        "\n",
        "model.fit(X_train_padded, y_train_encoded, epochs=50, batch_size=32, validation_data=(X_test_padded, y_test_encoded),callbacks=[early_stopping_cb])\n",
        "\n",
        "loss, accuracy = model.evaluate(X_test_padded, y_test_encoded, verbose=0)\n",
        "print(f'Test Accuracy: {accuracy}')\n"
      ]
    },
    {
      "cell_type": "code",
      "execution_count": 34,
      "metadata": {
        "colab": {
          "base_uri": "https://localhost:8080/"
        },
        "id": "vP7p1xoYQlvi",
        "outputId": "21cdd7c0-e894-423b-c915-28105069cf35"
      },
      "outputs": [
        {
          "name": "stdout",
          "output_type": "stream",
          "text": [
            "Test Accuracy: 0.9174420237541199\n"
          ]
        }
      ],
      "source": [
        "loss, accuracy = model.evaluate(X_test_padded, y_test_encoded, verbose=0)\n",
        "print(f'Test Accuracy: {accuracy}')"
      ]
    },
    {
      "cell_type": "code",
      "execution_count": 35,
      "metadata": {
        "colab": {
          "base_uri": "https://localhost:8080/"
        },
        "id": "TWA9_rpF8bMi",
        "outputId": "73e0bfb7-7475-4a84-8847-698399ece419"
      },
      "outputs": [
        {
          "name": "stdout",
          "output_type": "stream",
          "text": [
            "Epoch 1/50\n",
            "\u001b[1m1904/1904\u001b[0m \u001b[32m━━━━━━━━━━━━━━━━━━━━\u001b[0m\u001b[37m\u001b[0m \u001b[1m112s\u001b[0m 55ms/step - accuracy: 0.4173 - loss: 1.0736 - val_accuracy: 0.4245 - val_loss: 1.0823\n",
            "Epoch 2/50\n",
            "\u001b[1m1904/1904\u001b[0m \u001b[32m━━━━━━━━━━━━━━━━━━━━\u001b[0m\u001b[37m\u001b[0m \u001b[1m137s\u001b[0m 54ms/step - accuracy: 0.4190 - loss: 1.0719 - val_accuracy: 0.4185 - val_loss: 1.0721\n",
            "Epoch 3/50\n",
            "\u001b[1m1904/1904\u001b[0m \u001b[32m━━━━━━━━━━━━━━━━━━━━\u001b[0m\u001b[37m\u001b[0m \u001b[1m102s\u001b[0m 53ms/step - accuracy: 0.4255 - loss: 1.0662 - val_accuracy: 0.4291 - val_loss: 1.0640\n",
            "Epoch 4/50\n",
            "\u001b[1m1904/1904\u001b[0m \u001b[32m━━━━━━━━━━━━━━━━━━━━\u001b[0m\u001b[37m\u001b[0m \u001b[1m141s\u001b[0m 53ms/step - accuracy: 0.4356 - loss: 1.0611 - val_accuracy: 0.4378 - val_loss: 1.0683\n",
            "Epoch 5/50\n",
            "\u001b[1m1904/1904\u001b[0m \u001b[32m━━━━━━━━━━━━━━━━━━━━\u001b[0m\u001b[37m\u001b[0m \u001b[1m142s\u001b[0m 53ms/step - accuracy: 0.4374 - loss: 1.0594 - val_accuracy: 0.4159 - val_loss: 1.0798\n",
            "Epoch 6/50\n",
            "\u001b[1m1904/1904\u001b[0m \u001b[32m━━━━━━━━━━━━━━━━━━━━\u001b[0m\u001b[37m\u001b[0m \u001b[1m100s\u001b[0m 53ms/step - accuracy: 0.4286 - loss: 1.0664 - val_accuracy: 0.4317 - val_loss: 1.0588\n",
            "Epoch 7/50\n",
            "\u001b[1m1904/1904\u001b[0m \u001b[32m━━━━━━━━━━━━━━━━━━━━\u001b[0m\u001b[37m\u001b[0m \u001b[1m142s\u001b[0m 52ms/step - accuracy: 0.4252 - loss: 1.0574 - val_accuracy: 0.4317 - val_loss: 1.0667\n",
            "Epoch 8/50\n",
            "\u001b[1m1904/1904\u001b[0m \u001b[32m━━━━━━━━━━━━━━━━━━━━\u001b[0m\u001b[37m\u001b[0m \u001b[1m143s\u001b[0m 53ms/step - accuracy: 0.4263 - loss: 1.0639 - val_accuracy: 0.4317 - val_loss: 1.0588\n",
            "Epoch 9/50\n",
            "\u001b[1m1904/1904\u001b[0m \u001b[32m━━━━━━━━━━━━━━━━━━━━\u001b[0m\u001b[37m\u001b[0m \u001b[1m100s\u001b[0m 53ms/step - accuracy: 0.4331 - loss: 1.0533 - val_accuracy: 0.4483 - val_loss: 1.0511\n",
            "Epoch 10/50\n",
            "\u001b[1m1904/1904\u001b[0m \u001b[32m━━━━━━━━━━━━━━━━━━━━\u001b[0m\u001b[37m\u001b[0m \u001b[1m143s\u001b[0m 53ms/step - accuracy: 0.4384 - loss: 1.0568 - val_accuracy: 0.4390 - val_loss: 1.0122\n",
            "Epoch 11/50\n",
            "\u001b[1m1904/1904\u001b[0m \u001b[32m━━━━━━━━━━━━━━━━━━━━\u001b[0m\u001b[37m\u001b[0m \u001b[1m100s\u001b[0m 53ms/step - accuracy: 0.4416 - loss: 1.0160 - val_accuracy: 0.4516 - val_loss: 1.0140\n",
            "Epoch 12/50\n",
            "\u001b[1m1904/1904\u001b[0m \u001b[32m━━━━━━━━━━━━━━━━━━━━\u001b[0m\u001b[37m\u001b[0m \u001b[1m142s\u001b[0m 53ms/step - accuracy: 0.4435 - loss: 1.0139 - val_accuracy: 0.4442 - val_loss: 1.0180\n",
            "Epoch 13/50\n",
            "\u001b[1m1904/1904\u001b[0m \u001b[32m━━━━━━━━━━━━━━━━━━━━\u001b[0m\u001b[37m\u001b[0m \u001b[1m101s\u001b[0m 53ms/step - accuracy: 0.4380 - loss: 1.0217 - val_accuracy: 0.4443 - val_loss: 1.0137\n",
            "Epoch 14/50\n",
            "\u001b[1m1904/1904\u001b[0m \u001b[32m━━━━━━━━━━━━━━━━━━━━\u001b[0m\u001b[37m\u001b[0m \u001b[1m142s\u001b[0m 53ms/step - accuracy: 0.4305 - loss: 1.0271 - val_accuracy: 0.4418 - val_loss: 1.0293\n",
            "Epoch 15/50\n",
            "\u001b[1m1904/1904\u001b[0m \u001b[32m━━━━━━━━━━━━━━━━━━━━\u001b[0m\u001b[37m\u001b[0m \u001b[1m101s\u001b[0m 53ms/step - accuracy: 0.4301 - loss: 1.0427 - val_accuracy: 0.4077 - val_loss: 1.0328\n",
            "Epoch 16/50\n",
            "\u001b[1m1904/1904\u001b[0m \u001b[32m━━━━━━━━━━━━━━━━━━━━\u001b[0m\u001b[37m\u001b[0m \u001b[1m143s\u001b[0m 53ms/step - accuracy: 0.4332 - loss: 1.0369 - val_accuracy: 0.4057 - val_loss: 1.0432\n"
          ]
        }
      ],
      "source": [
        "vocab_size = 10000\n",
        "max_length = 500\n",
        "\n",
        "tokenizer = tf.keras.preprocessing.text.Tokenizer(num_words=vocab_size, oov_token='<OOV>')\n",
        "tokenizer.fit_on_texts(X_train['Review'])\n",
        "\n",
        "X_train_sequences = tokenizer.texts_to_sequences(X_train['Review'])\n",
        "X_test_sequences = tokenizer.texts_to_sequences(X_test['Review'])\n",
        "\n",
        "X_train_padded = tf.keras.preprocessing.sequence.pad_sequences(X_train_sequences, maxlen=max_length, padding='post', truncating='post')\n",
        "X_test_padded = tf.keras.preprocessing.sequence.pad_sequences(X_test_sequences, maxlen=max_length, padding='post', truncating='post')\n",
        "\n",
        "label_encoder = LabelEncoder()\n",
        "y_train_encoded = label_encoder.fit_transform(y_train)\n",
        "y_test_encoded = label_encoder.transform(y_test)\n",
        "\n",
        "vectorize_layer = tokenizer\n",
        "\n",
        "\n",
        "tf.random.set_seed(42)\n",
        "seq_length = len(vectorize_layer.word_index) + 1\n",
        "model = tf.keras.Sequential([\n",
        "    tf.keras.layers.Embedding(input_dim=seq_length, output_dim=16),\n",
        "    tf.keras.layers.SimpleRNN(128, return_sequences=False),\n",
        "    tf.keras.layers.Dense(len(label_encoder.classes_), activation=\"softmax\")\n",
        "])\n",
        "\n",
        "model.compile(loss=\"sparse_categorical_crossentropy\", optimizer=\"nadam\", metrics=[\"accuracy\"])\n",
        "early_stopping_cb = tf.keras.callbacks.EarlyStopping(monitor=\"val_accuracy\", patience=5, restore_best_weights=True)\n",
        "\n",
        "\n",
        "BATCH_SIZE = 32\n",
        "BUFFER_SIZE = 10000\n",
        "train_dataset = tf.data.Dataset.from_tensor_slices((X_train_padded, y_train_encoded))\n",
        "train_dataset = train_dataset.shuffle(BUFFER_SIZE).batch(BATCH_SIZE, drop_remainder=True)\n",
        "\n",
        "valid_dataset = tf.data.Dataset.from_tensor_slices((X_test_padded, y_test_encoded))\n",
        "valid_dataset = valid_dataset.batch(BATCH_SIZE, drop_remainder=True)\n",
        "\n",
        "\n",
        "history = model.fit(train_dataset, validation_data=valid_dataset, epochs=50, callbacks=[early_stopping_cb])"
      ]
    },
    {
      "cell_type": "code",
      "execution_count": 39,
      "metadata": {
        "colab": {
          "base_uri": "https://localhost:8080/"
        },
        "id": "A-j3TmYJLa0n",
        "outputId": "17b228ca-d843-4426-8770-3c469b6d5dba"
      },
      "outputs": [
        {
          "name": "stdout",
          "output_type": "stream",
          "text": [
            "Test Accuracy: 0.4514842629432678\n"
          ]
        }
      ],
      "source": [
        "loss, accuracy = model.evaluate(X_test_padded, y_test_encoded, verbose=0)\n",
        "print(f'Test Accuracy: {accuracy}')"
      ]
    },
    {
      "cell_type": "code",
      "execution_count": 36,
      "metadata": {
        "colab": {
          "base_uri": "https://localhost:8080/"
        },
        "id": "DJ2sjiTC8soG",
        "outputId": "a6dd0bf9-0861-4bcd-b1ab-1761d0379e83"
      },
      "outputs": [
        {
          "name": "stdout",
          "output_type": "stream",
          "text": [
            "Epoch 1/50\n",
            "\u001b[1m1904/1904\u001b[0m \u001b[32m━━━━━━━━━━━━━━━━━━━━\u001b[0m\u001b[37m\u001b[0m \u001b[1m46s\u001b[0m 20ms/step - accuracy: 0.4360 - loss: 1.0642 - val_accuracy: 0.4317 - val_loss: 1.0666\n",
            "Epoch 2/50\n",
            "\u001b[1m1904/1904\u001b[0m \u001b[32m━━━━━━━━━━━━━━━━━━━━\u001b[0m\u001b[37m\u001b[0m \u001b[1m39s\u001b[0m 21ms/step - accuracy: 0.4319 - loss: 1.0647 - val_accuracy: 0.4317 - val_loss: 1.0638\n",
            "Epoch 3/50\n",
            "\u001b[1m1904/1904\u001b[0m \u001b[32m━━━━━━━━━━━━━━━━━━━━\u001b[0m\u001b[37m\u001b[0m \u001b[1m39s\u001b[0m 20ms/step - accuracy: 0.4355 - loss: 1.0631 - val_accuracy: 0.4317 - val_loss: 1.0638\n",
            "Epoch 4/50\n",
            "\u001b[1m1904/1904\u001b[0m \u001b[32m━━━━━━━━━━━━━━━━━━━━\u001b[0m\u001b[37m\u001b[0m \u001b[1m39s\u001b[0m 21ms/step - accuracy: 0.4380 - loss: 1.0626 - val_accuracy: 0.4317 - val_loss: 1.0648\n",
            "Epoch 5/50\n",
            "\u001b[1m1904/1904\u001b[0m \u001b[32m━━━━━━━━━━━━━━━━━━━━\u001b[0m\u001b[37m\u001b[0m \u001b[1m39s\u001b[0m 21ms/step - accuracy: 0.4356 - loss: 1.0636 - val_accuracy: 0.4317 - val_loss: 1.0643\n",
            "Epoch 6/50\n",
            "\u001b[1m1904/1904\u001b[0m \u001b[32m━━━━━━━━━━━━━━━━━━━━\u001b[0m\u001b[37m\u001b[0m \u001b[1m40s\u001b[0m 20ms/step - accuracy: 0.4357 - loss: 1.0631 - val_accuracy: 0.4317 - val_loss: 1.0637\n"
          ]
        }
      ],
      "source": [
        "vocab_size = 10000\n",
        "max_length = 500\n",
        "\n",
        "tokenizer = tf.keras.preprocessing.text.Tokenizer(num_words=vocab_size, oov_token='<OOV>')\n",
        "tokenizer.fit_on_texts(X_train['Review'])\n",
        "\n",
        "X_train_sequences = tokenizer.texts_to_sequences(X_train['Review'])\n",
        "X_test_sequences = tokenizer.texts_to_sequences(X_test['Review'])\n",
        "\n",
        "X_train_padded = tf.keras.preprocessing.sequence.pad_sequences(X_train_sequences, maxlen=max_length, padding='post', truncating='post')\n",
        "X_test_padded = tf.keras.preprocessing.sequence.pad_sequences(X_test_sequences, maxlen=max_length, padding='post', truncating='post')\n",
        "\n",
        "label_encoder = LabelEncoder()\n",
        "y_train_encoded = label_encoder.fit_transform(y_train)\n",
        "y_test_encoded = label_encoder.transform(y_test)\n",
        "\n",
        "vectorize_layer = tokenizer\n",
        "\n",
        "tf.random.set_seed(42)\n",
        "seq_length = len(vectorize_layer.word_index) + 1\n",
        "updated_model = tf.keras.Sequential([\n",
        "    tf.keras.layers.Embedding(input_dim=seq_length, output_dim=32),\n",
        "    tf.keras.layers.GRU(128, return_sequences=False),\n",
        "    tf.keras.layers.Dropout(0.3),\n",
        "    #tf.keras.layers.GRU(128, return_sequences=True),\n",
        "    tf.keras.layers.Dense(len(label_encoder.classes_), activation=\"softmax\")\n",
        "])\n",
        "updated_model.compile(loss=\"sparse_categorical_crossentropy\", optimizer=\"nadam\", metrics=[\"accuracy\"])\n",
        "early_stopping_cb = tf.keras.callbacks.EarlyStopping(monitor=\"val_accuracy\", patience=5, restore_best_weights=True)\n",
        "\n",
        "BATCH_SIZE = 32\n",
        "BUFFER_SIZE = 10000\n",
        "train_dataset = tf.data.Dataset.from_tensor_slices((X_train_padded, y_train_encoded))\n",
        "train_dataset = train_dataset.shuffle(BUFFER_SIZE).batch(BATCH_SIZE, drop_remainder=True)\n",
        "\n",
        "valid_dataset = tf.data.Dataset.from_tensor_slices((X_test_padded, y_test_encoded))\n",
        "valid_dataset = valid_dataset.batch(BATCH_SIZE, drop_remainder=True)\n",
        "\n",
        "history = updated_model.fit(train_dataset, validation_data=valid_dataset, epochs=50, callbacks=[early_stopping_cb])"
      ]
    },
    {
      "cell_type": "code",
      "execution_count": 37,
      "metadata": {
        "colab": {
          "base_uri": "https://localhost:8080/"
        },
        "id": "sIKTavD3UdvF",
        "outputId": "83770be8-e901-46c0-a63f-2b52b8e131f9"
      },
      "outputs": [
        {
          "name": "stdout",
          "output_type": "stream",
          "text": [
            "Test Accuracy: 0.4313986003398895\n"
          ]
        }
      ],
      "source": [
        "loss, accuracy = updated_model.evaluate(X_test_padded, y_test_encoded, verbose=0)\n",
        "print(f'Test Accuracy: {accuracy}')"
      ]
    },
    {
      "cell_type": "code",
      "execution_count": 46,
      "metadata": {
        "colab": {
          "base_uri": "https://localhost:8080/",
          "height": 651
        },
        "id": "1MOGzqu0POge",
        "outputId": "1a26b9b2-756c-46d6-b9de-edee16c2b748"
      },
      "outputs": [
        {
          "data": {
            "image/png": "[encoded data removed]",
            "text/plain": [
              "<Figure size 1000x600 with 1 Axes>"
            ]
          },
          "metadata": {},
          "output_type": "display_data"
        }
      ],
      "source": [
        "import matplotlib.pyplot as plt\n",
        "\n",
        "model_names = [\n",
        "    \"MultinomialNB\",\n",
        "    \"LogisticRegression\",\n",
        "    \"Dense NN\",\n",
        "    \"Simple RNN\",\n",
        "    \"GRU Model\"\n",
        "]\n",
        "\n",
        "accuracies = [\n",
        "    0.8965,  # Replace with the actual accuracy for MultinomialNB\n",
        "    0.9153, # Replace with the actual accuracy for LogisticRegression\n",
        "    0.9174,  # Replace with the actual accuracy for Dense Neural Network\n",
        "    0.4514, # Replace with the actual accuracy for Simple RNN\n",
        "    0.4313   # Replace with the actual accuracy for GRU Model\n",
        "]\n",
        "\n",
        "plt.figure(figsize=(10, 6))\n",
        "plt.bar(model_names, accuracies, color=['blue', 'green', 'orange', 'purple', 'red'])\n",
        "plt.xlabel(\"Models\")\n",
        "plt.ylabel(\"Accuracy\")\n",
        "plt.title(\"Model Comparison: Accuracy\")\n",
        "plt.ylim(0, 1)\n",
        "plt.xticks(rotation=45)\n",
        "plt.grid(axis='y', linestyle='--', alpha=0.7)\n",
        "\n",
        "plt.show()"
      ]
    }
  ],
  "metadata": {
    "accelerator": "GPU",
    "colab": {
      "gpuType": "T4",
      "provenance": []
    },
    "kernelspec": {
      "display_name": "Python 3",
      "name": "python3"
    },
    "language_info": {
      "codemirror_mode": {
        "name": "ipython",
        "version": 3
      },
      "file_extension": ".py",
      "mimetype": "text/x-python",
      "name": "python",
      "nbconvert_exporter": "python",
      "pygments_lexer": "ipython3",
      "version": "3.11.4"
    }
  },
  "nbformat": 4,
  "nbformat_minor": 0
}
